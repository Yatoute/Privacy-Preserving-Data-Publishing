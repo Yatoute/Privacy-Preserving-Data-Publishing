{
 "cells": [
  {
   "cell_type": "markdown",
   "id": "6a1cb383-e177-4483-86c8-23104b647494",
   "metadata": {},
   "source": [
    "# Projet PPDP : Can I use Synthetic Data for my Statistical Studies?"
   ]
  },
  {
   "cell_type": "code",
   "execution_count": null,
   "id": "0e77a8ee-d88c-435a-902b-5533b1e87e35",
   "metadata": {},
   "outputs": [],
   "source": [
    "#Installation de Private-PGM\n",
    "#!pip install git+https://github.com/ryan112358/private-pgm.git"
   ]
  },
  {
   "cell_type": "code",
   "execution_count": null,
   "id": "0ae67a9e-aa84-4e8c-a8ce-f5f2fb24bab1",
   "metadata": {},
   "outputs": [],
   "source": [
    "#pip install git+https://github.com/ryan112358/private-pgm.git@01f02f17eba440f4e76c1d06fa5ee9eed0bd2bca"
   ]
  },
  {
   "cell_type": "markdown",
   "id": "f09c1787-a35e-4d50-a2e1-0446008cf59a",
   "metadata": {},
   "source": [
    "## Chargement des données"
   ]
  },
  {
   "cell_type": "code",
   "execution_count": 1,
   "id": "d5891457-30a0-4931-ae6a-dcd66f9bef90",
   "metadata": {},
   "outputs": [],
   "source": [
    "# Imports\n",
    "from ucimlrepo import fetch_ucirepo\n",
    "import pandas as pd\n",
    "import numpy as np\n",
    "import matplotlib.pyplot as plt\n",
    "from snsynth.mst import MSTSynthesizer\n",
    "import statsmodels.formula.api as smf\n",
    "from scipy.stats import wasserstein_distance"
   ]
  },
  {
   "cell_type": "markdown",
   "id": "d0a6913e-59f6-4163-993b-bc9d731c71e5",
   "metadata": {},
   "source": [
    "## Exploration et préparation des données"
   ]
  },
  {
   "cell_type": "code",
   "execution_count": 2,
   "id": "b589c550-8825-43bd-801e-ad37b0a1e1da",
   "metadata": {},
   "outputs": [
    {
     "name": "stdout",
     "output_type": "stream",
     "text": [
      "{'uci_id': 2, 'name': 'Adult', 'repository_url': 'https://archive.ics.uci.edu/dataset/2/adult', 'data_url': 'https://archive.ics.uci.edu/static/public/2/data.csv', 'abstract': 'Predict whether annual income of an individual exceeds $50K/yr based on census data. Also known as \"Census Income\" dataset. ', 'area': 'Social Science', 'tasks': ['Classification'], 'characteristics': ['Multivariate'], 'num_instances': 48842, 'num_features': 14, 'feature_types': ['Categorical', 'Integer'], 'demographics': ['Age', 'Income', 'Education Level', 'Other', 'Race', 'Sex'], 'target_col': ['income'], 'index_col': None, 'has_missing_values': 'yes', 'missing_values_symbol': 'NaN', 'year_of_dataset_creation': 1996, 'last_updated': 'Tue Sep 24 2024', 'dataset_doi': '10.24432/C5XW20', 'creators': ['Barry Becker', 'Ronny Kohavi'], 'intro_paper': None, 'additional_info': {'summary': \"Extraction was done by Barry Becker from the 1994 Census database.  A set of reasonably clean records was extracted using the following conditions: ((AAGE>16) && (AGI>100) && (AFNLWGT>1)&& (HRSWK>0))\\n\\nPrediction task is to determine whether a person's income is over $50,000 a year.\\n\", 'purpose': None, 'funded_by': None, 'instances_represent': None, 'recommended_data_splits': None, 'sensitive_data': None, 'preprocessing_description': None, 'variable_info': 'Listing of attributes:\\r\\n\\r\\n>50K, <=50K.\\r\\n\\r\\nage: continuous.\\r\\nworkclass: Private, Self-emp-not-inc, Self-emp-inc, Federal-gov, Local-gov, State-gov, Without-pay, Never-worked.\\r\\nfnlwgt: continuous.\\r\\neducation: Bachelors, Some-college, 11th, HS-grad, Prof-school, Assoc-acdm, Assoc-voc, 9th, 7th-8th, 12th, Masters, 1st-4th, 10th, Doctorate, 5th-6th, Preschool.\\r\\neducation-num: continuous.\\r\\nmarital-status: Married-civ-spouse, Divorced, Never-married, Separated, Widowed, Married-spouse-absent, Married-AF-spouse.\\r\\noccupation: Tech-support, Craft-repair, Other-service, Sales, Exec-managerial, Prof-specialty, Handlers-cleaners, Machine-op-inspct, Adm-clerical, Farming-fishing, Transport-moving, Priv-house-serv, Protective-serv, Armed-Forces.\\r\\nrelationship: Wife, Own-child, Husband, Not-in-family, Other-relative, Unmarried.\\r\\nrace: White, Asian-Pac-Islander, Amer-Indian-Eskimo, Other, Black.\\r\\nsex: Female, Male.\\r\\ncapital-gain: continuous.\\r\\ncapital-loss: continuous.\\r\\nhours-per-week: continuous.\\r\\nnative-country: United-States, Cambodia, England, Puerto-Rico, Canada, Germany, Outlying-US(Guam-USVI-etc), India, Japan, Greece, South, China, Cuba, Iran, Honduras, Philippines, Italy, Poland, Jamaica, Vietnam, Mexico, Portugal, Ireland, France, Dominican-Republic, Laos, Ecuador, Taiwan, Haiti, Columbia, Hungary, Guatemala, Nicaragua, Scotland, Thailand, Yugoslavia, El-Salvador, Trinadad&Tobago, Peru, Hong, Holand-Netherlands.', 'citation': None}}\n",
      "              name     role         type      demographic  \\\n",
      "0              age  Feature      Integer              Age   \n",
      "1        workclass  Feature  Categorical           Income   \n",
      "2           fnlwgt  Feature      Integer             None   \n",
      "3        education  Feature  Categorical  Education Level   \n",
      "4    education-num  Feature      Integer  Education Level   \n",
      "5   marital-status  Feature  Categorical            Other   \n",
      "6       occupation  Feature  Categorical            Other   \n",
      "7     relationship  Feature  Categorical            Other   \n",
      "8             race  Feature  Categorical             Race   \n",
      "9              sex  Feature       Binary              Sex   \n",
      "10    capital-gain  Feature      Integer             None   \n",
      "11    capital-loss  Feature      Integer             None   \n",
      "12  hours-per-week  Feature      Integer             None   \n",
      "13  native-country  Feature  Categorical            Other   \n",
      "14          income   Target       Binary           Income   \n",
      "\n",
      "                                          description units missing_values  \n",
      "0                                                 N/A  None             no  \n",
      "1   Private, Self-emp-not-inc, Self-emp-inc, Feder...  None            yes  \n",
      "2                                                None  None             no  \n",
      "3    Bachelors, Some-college, 11th, HS-grad, Prof-...  None             no  \n",
      "4                                                None  None             no  \n",
      "5   Married-civ-spouse, Divorced, Never-married, S...  None             no  \n",
      "6   Tech-support, Craft-repair, Other-service, Sal...  None            yes  \n",
      "7   Wife, Own-child, Husband, Not-in-family, Other...  None             no  \n",
      "8   White, Asian-Pac-Islander, Amer-Indian-Eskimo,...  None             no  \n",
      "9                                       Female, Male.  None             no  \n",
      "10                                               None  None             no  \n",
      "11                                               None  None             no  \n",
      "12                                               None  None             no  \n",
      "13  United-States, Cambodia, England, Puerto-Rico,...  None            yes  \n",
      "14                                       >50K, <=50K.  None             no  \n"
     ]
    }
   ],
   "source": [
    "# fetch dataset \n",
    "adult = fetch_ucirepo(id=2) \n",
    "  \n",
    "# data (as pandas dataframes) \n",
    "X = adult.data.features \n",
    "y = adult.data.targets \n",
    "  \n",
    "# metadata \n",
    "print(adult.metadata) \n",
    "  \n",
    "# variable information \n",
    "print(adult.variables) "
   ]
  },
  {
   "cell_type": "code",
   "execution_count": 3,
   "id": "c4bce674-3964-441e-b19a-caf3be9fdd3d",
   "metadata": {},
   "outputs": [
    {
     "data": {
      "text/plain": [
       "ucimlrepo.dotdict.dotdict"
      ]
     },
     "execution_count": 3,
     "metadata": {},
     "output_type": "execute_result"
    }
   ],
   "source": [
    "type(adult)"
   ]
  },
  {
   "cell_type": "code",
   "execution_count": 4,
   "id": "474c8c9c-e450-4c41-af03-0facd1dc9dd0",
   "metadata": {},
   "outputs": [
    {
     "data": {
      "text/html": [
       "<div>\n",
       "<style scoped>\n",
       "    .dataframe tbody tr th:only-of-type {\n",
       "        vertical-align: middle;\n",
       "    }\n",
       "\n",
       "    .dataframe tbody tr th {\n",
       "        vertical-align: top;\n",
       "    }\n",
       "\n",
       "    .dataframe thead th {\n",
       "        text-align: right;\n",
       "    }\n",
       "</style>\n",
       "<table border=\"1\" class=\"dataframe\">\n",
       "  <thead>\n",
       "    <tr style=\"text-align: right;\">\n",
       "      <th></th>\n",
       "      <th>age</th>\n",
       "      <th>workclass</th>\n",
       "      <th>fnlwgt</th>\n",
       "      <th>education</th>\n",
       "      <th>education-num</th>\n",
       "      <th>marital-status</th>\n",
       "      <th>occupation</th>\n",
       "      <th>relationship</th>\n",
       "      <th>race</th>\n",
       "      <th>sex</th>\n",
       "      <th>capital-gain</th>\n",
       "      <th>capital-loss</th>\n",
       "      <th>hours-per-week</th>\n",
       "      <th>native-country</th>\n",
       "    </tr>\n",
       "  </thead>\n",
       "  <tbody>\n",
       "    <tr>\n",
       "      <th>0</th>\n",
       "      <td>39</td>\n",
       "      <td>State-gov</td>\n",
       "      <td>77516</td>\n",
       "      <td>Bachelors</td>\n",
       "      <td>13</td>\n",
       "      <td>Never-married</td>\n",
       "      <td>Adm-clerical</td>\n",
       "      <td>Not-in-family</td>\n",
       "      <td>White</td>\n",
       "      <td>Male</td>\n",
       "      <td>2174</td>\n",
       "      <td>0</td>\n",
       "      <td>40</td>\n",
       "      <td>United-States</td>\n",
       "    </tr>\n",
       "    <tr>\n",
       "      <th>1</th>\n",
       "      <td>50</td>\n",
       "      <td>Self-emp-not-inc</td>\n",
       "      <td>83311</td>\n",
       "      <td>Bachelors</td>\n",
       "      <td>13</td>\n",
       "      <td>Married-civ-spouse</td>\n",
       "      <td>Exec-managerial</td>\n",
       "      <td>Husband</td>\n",
       "      <td>White</td>\n",
       "      <td>Male</td>\n",
       "      <td>0</td>\n",
       "      <td>0</td>\n",
       "      <td>13</td>\n",
       "      <td>United-States</td>\n",
       "    </tr>\n",
       "    <tr>\n",
       "      <th>2</th>\n",
       "      <td>38</td>\n",
       "      <td>Private</td>\n",
       "      <td>215646</td>\n",
       "      <td>HS-grad</td>\n",
       "      <td>9</td>\n",
       "      <td>Divorced</td>\n",
       "      <td>Handlers-cleaners</td>\n",
       "      <td>Not-in-family</td>\n",
       "      <td>White</td>\n",
       "      <td>Male</td>\n",
       "      <td>0</td>\n",
       "      <td>0</td>\n",
       "      <td>40</td>\n",
       "      <td>United-States</td>\n",
       "    </tr>\n",
       "    <tr>\n",
       "      <th>3</th>\n",
       "      <td>53</td>\n",
       "      <td>Private</td>\n",
       "      <td>234721</td>\n",
       "      <td>11th</td>\n",
       "      <td>7</td>\n",
       "      <td>Married-civ-spouse</td>\n",
       "      <td>Handlers-cleaners</td>\n",
       "      <td>Husband</td>\n",
       "      <td>Black</td>\n",
       "      <td>Male</td>\n",
       "      <td>0</td>\n",
       "      <td>0</td>\n",
       "      <td>40</td>\n",
       "      <td>United-States</td>\n",
       "    </tr>\n",
       "    <tr>\n",
       "      <th>4</th>\n",
       "      <td>28</td>\n",
       "      <td>Private</td>\n",
       "      <td>338409</td>\n",
       "      <td>Bachelors</td>\n",
       "      <td>13</td>\n",
       "      <td>Married-civ-spouse</td>\n",
       "      <td>Prof-specialty</td>\n",
       "      <td>Wife</td>\n",
       "      <td>Black</td>\n",
       "      <td>Female</td>\n",
       "      <td>0</td>\n",
       "      <td>0</td>\n",
       "      <td>40</td>\n",
       "      <td>Cuba</td>\n",
       "    </tr>\n",
       "  </tbody>\n",
       "</table>\n",
       "</div>"
      ],
      "text/plain": [
       "   age         workclass  fnlwgt  education  education-num  \\\n",
       "0   39         State-gov   77516  Bachelors             13   \n",
       "1   50  Self-emp-not-inc   83311  Bachelors             13   \n",
       "2   38           Private  215646    HS-grad              9   \n",
       "3   53           Private  234721       11th              7   \n",
       "4   28           Private  338409  Bachelors             13   \n",
       "\n",
       "       marital-status         occupation   relationship   race     sex  \\\n",
       "0       Never-married       Adm-clerical  Not-in-family  White    Male   \n",
       "1  Married-civ-spouse    Exec-managerial        Husband  White    Male   \n",
       "2            Divorced  Handlers-cleaners  Not-in-family  White    Male   \n",
       "3  Married-civ-spouse  Handlers-cleaners        Husband  Black    Male   \n",
       "4  Married-civ-spouse     Prof-specialty           Wife  Black  Female   \n",
       "\n",
       "   capital-gain  capital-loss  hours-per-week native-country  \n",
       "0          2174             0              40  United-States  \n",
       "1             0             0              13  United-States  \n",
       "2             0             0              40  United-States  \n",
       "3             0             0              40  United-States  \n",
       "4             0             0              40           Cuba  "
      ]
     },
     "execution_count": 4,
     "metadata": {},
     "output_type": "execute_result"
    }
   ],
   "source": [
    "X.head()"
   ]
  },
  {
   "cell_type": "code",
   "execution_count": 5,
   "id": "9de11f99-288f-4b4c-8573-16e0f9739e8a",
   "metadata": {},
   "outputs": [
    {
     "name": "stdout",
     "output_type": "stream",
     "text": [
      "<class 'pandas.core.frame.DataFrame'>\n",
      "RangeIndex: 48842 entries, 0 to 48841\n",
      "Data columns (total 14 columns):\n",
      " #   Column          Non-Null Count  Dtype \n",
      "---  ------          --------------  ----- \n",
      " 0   age             48842 non-null  int64 \n",
      " 1   workclass       47879 non-null  object\n",
      " 2   fnlwgt          48842 non-null  int64 \n",
      " 3   education       48842 non-null  object\n",
      " 4   education-num   48842 non-null  int64 \n",
      " 5   marital-status  48842 non-null  object\n",
      " 6   occupation      47876 non-null  object\n",
      " 7   relationship    48842 non-null  object\n",
      " 8   race            48842 non-null  object\n",
      " 9   sex             48842 non-null  object\n",
      " 10  capital-gain    48842 non-null  int64 \n",
      " 11  capital-loss    48842 non-null  int64 \n",
      " 12  hours-per-week  48842 non-null  int64 \n",
      " 13  native-country  48568 non-null  object\n",
      "dtypes: int64(6), object(8)\n",
      "memory usage: 5.2+ MB\n"
     ]
    }
   ],
   "source": [
    "X.info()"
   ]
  },
  {
   "cell_type": "code",
   "execution_count": 6,
   "id": "53c5eb03-3d54-4eaf-b11f-769ee1fc93c7",
   "metadata": {},
   "outputs": [
    {
     "data": {
      "text/html": [
       "<div>\n",
       "<style scoped>\n",
       "    .dataframe tbody tr th:only-of-type {\n",
       "        vertical-align: middle;\n",
       "    }\n",
       "\n",
       "    .dataframe tbody tr th {\n",
       "        vertical-align: top;\n",
       "    }\n",
       "\n",
       "    .dataframe thead th {\n",
       "        text-align: right;\n",
       "    }\n",
       "</style>\n",
       "<table border=\"1\" class=\"dataframe\">\n",
       "  <thead>\n",
       "    <tr style=\"text-align: right;\">\n",
       "      <th></th>\n",
       "      <th>age</th>\n",
       "      <th>fnlwgt</th>\n",
       "      <th>education-num</th>\n",
       "      <th>capital-gain</th>\n",
       "      <th>capital-loss</th>\n",
       "      <th>hours-per-week</th>\n",
       "    </tr>\n",
       "  </thead>\n",
       "  <tbody>\n",
       "    <tr>\n",
       "      <th>count</th>\n",
       "      <td>48842.000000</td>\n",
       "      <td>4.884200e+04</td>\n",
       "      <td>48842.000000</td>\n",
       "      <td>48842.000000</td>\n",
       "      <td>48842.000000</td>\n",
       "      <td>48842.000000</td>\n",
       "    </tr>\n",
       "    <tr>\n",
       "      <th>mean</th>\n",
       "      <td>38.643585</td>\n",
       "      <td>1.896641e+05</td>\n",
       "      <td>10.078089</td>\n",
       "      <td>1079.067626</td>\n",
       "      <td>87.502314</td>\n",
       "      <td>40.422382</td>\n",
       "    </tr>\n",
       "    <tr>\n",
       "      <th>std</th>\n",
       "      <td>13.710510</td>\n",
       "      <td>1.056040e+05</td>\n",
       "      <td>2.570973</td>\n",
       "      <td>7452.019058</td>\n",
       "      <td>403.004552</td>\n",
       "      <td>12.391444</td>\n",
       "    </tr>\n",
       "    <tr>\n",
       "      <th>min</th>\n",
       "      <td>17.000000</td>\n",
       "      <td>1.228500e+04</td>\n",
       "      <td>1.000000</td>\n",
       "      <td>0.000000</td>\n",
       "      <td>0.000000</td>\n",
       "      <td>1.000000</td>\n",
       "    </tr>\n",
       "    <tr>\n",
       "      <th>25%</th>\n",
       "      <td>28.000000</td>\n",
       "      <td>1.175505e+05</td>\n",
       "      <td>9.000000</td>\n",
       "      <td>0.000000</td>\n",
       "      <td>0.000000</td>\n",
       "      <td>40.000000</td>\n",
       "    </tr>\n",
       "    <tr>\n",
       "      <th>50%</th>\n",
       "      <td>37.000000</td>\n",
       "      <td>1.781445e+05</td>\n",
       "      <td>10.000000</td>\n",
       "      <td>0.000000</td>\n",
       "      <td>0.000000</td>\n",
       "      <td>40.000000</td>\n",
       "    </tr>\n",
       "    <tr>\n",
       "      <th>75%</th>\n",
       "      <td>48.000000</td>\n",
       "      <td>2.376420e+05</td>\n",
       "      <td>12.000000</td>\n",
       "      <td>0.000000</td>\n",
       "      <td>0.000000</td>\n",
       "      <td>45.000000</td>\n",
       "    </tr>\n",
       "    <tr>\n",
       "      <th>max</th>\n",
       "      <td>90.000000</td>\n",
       "      <td>1.490400e+06</td>\n",
       "      <td>16.000000</td>\n",
       "      <td>99999.000000</td>\n",
       "      <td>4356.000000</td>\n",
       "      <td>99.000000</td>\n",
       "    </tr>\n",
       "  </tbody>\n",
       "</table>\n",
       "</div>"
      ],
      "text/plain": [
       "                age        fnlwgt  education-num  capital-gain  capital-loss  \\\n",
       "count  48842.000000  4.884200e+04   48842.000000  48842.000000  48842.000000   \n",
       "mean      38.643585  1.896641e+05      10.078089   1079.067626     87.502314   \n",
       "std       13.710510  1.056040e+05       2.570973   7452.019058    403.004552   \n",
       "min       17.000000  1.228500e+04       1.000000      0.000000      0.000000   \n",
       "25%       28.000000  1.175505e+05       9.000000      0.000000      0.000000   \n",
       "50%       37.000000  1.781445e+05      10.000000      0.000000      0.000000   \n",
       "75%       48.000000  2.376420e+05      12.000000      0.000000      0.000000   \n",
       "max       90.000000  1.490400e+06      16.000000  99999.000000   4356.000000   \n",
       "\n",
       "       hours-per-week  \n",
       "count    48842.000000  \n",
       "mean        40.422382  \n",
       "std         12.391444  \n",
       "min          1.000000  \n",
       "25%         40.000000  \n",
       "50%         40.000000  \n",
       "75%         45.000000  \n",
       "max         99.000000  "
      ]
     },
     "execution_count": 6,
     "metadata": {},
     "output_type": "execute_result"
    }
   ],
   "source": [
    "X.describe()"
   ]
  },
  {
   "cell_type": "code",
   "execution_count": 7,
   "id": "3c0607fd-0d76-4cc8-8986-2a8ed27f963a",
   "metadata": {},
   "outputs": [
    {
     "data": {
      "text/plain": [
       "income\n",
       "<=50K     24720\n",
       "<=50K.    12435\n",
       ">50K       7841\n",
       ">50K.      3846\n",
       "Name: count, dtype: int64"
      ]
     },
     "execution_count": 7,
     "metadata": {},
     "output_type": "execute_result"
    }
   ],
   "source": [
    "y.value_counts()"
   ]
  },
  {
   "cell_type": "code",
   "execution_count": 8,
   "id": "1fed4060-4277-4c39-bcc4-ddda5057f485",
   "metadata": {},
   "outputs": [],
   "source": [
    "y.loc[:, 'income'] = y['income'].str.replace('.', '', regex=False)"
   ]
  },
  {
   "cell_type": "code",
   "execution_count": 9,
   "id": "d6882989-84c6-4ba0-be3f-e2317ae94ea4",
   "metadata": {},
   "outputs": [
    {
     "data": {
      "text/plain": [
       "income\n",
       "<=50K     37155\n",
       ">50K      11687\n",
       "Name: count, dtype: int64"
      ]
     },
     "execution_count": 9,
     "metadata": {},
     "output_type": "execute_result"
    }
   ],
   "source": [
    "y.value_counts()"
   ]
  },
  {
   "cell_type": "code",
   "execution_count": 10,
   "id": "f9c71aa1-9fd9-4b45-a6eb-0d8b12b8f363",
   "metadata": {},
   "outputs": [],
   "source": [
    "df = pd.concat([X, y], axis=1)"
   ]
  },
  {
   "cell_type": "code",
   "execution_count": 11,
   "id": "ece5a3a7-df1a-46ff-bfd7-3221a2d871f5",
   "metadata": {},
   "outputs": [
    {
     "data": {
      "text/html": [
       "<div>\n",
       "<style scoped>\n",
       "    .dataframe tbody tr th:only-of-type {\n",
       "        vertical-align: middle;\n",
       "    }\n",
       "\n",
       "    .dataframe tbody tr th {\n",
       "        vertical-align: top;\n",
       "    }\n",
       "\n",
       "    .dataframe thead th {\n",
       "        text-align: right;\n",
       "    }\n",
       "</style>\n",
       "<table border=\"1\" class=\"dataframe\">\n",
       "  <thead>\n",
       "    <tr style=\"text-align: right;\">\n",
       "      <th></th>\n",
       "      <th>age</th>\n",
       "      <th>workclass</th>\n",
       "      <th>fnlwgt</th>\n",
       "      <th>education</th>\n",
       "      <th>education-num</th>\n",
       "      <th>marital-status</th>\n",
       "      <th>occupation</th>\n",
       "      <th>relationship</th>\n",
       "      <th>race</th>\n",
       "      <th>sex</th>\n",
       "      <th>capital-gain</th>\n",
       "      <th>capital-loss</th>\n",
       "      <th>hours-per-week</th>\n",
       "      <th>native-country</th>\n",
       "      <th>income</th>\n",
       "    </tr>\n",
       "  </thead>\n",
       "  <tbody>\n",
       "    <tr>\n",
       "      <th>0</th>\n",
       "      <td>39</td>\n",
       "      <td>State-gov</td>\n",
       "      <td>77516</td>\n",
       "      <td>Bachelors</td>\n",
       "      <td>13</td>\n",
       "      <td>Never-married</td>\n",
       "      <td>Adm-clerical</td>\n",
       "      <td>Not-in-family</td>\n",
       "      <td>White</td>\n",
       "      <td>Male</td>\n",
       "      <td>2174</td>\n",
       "      <td>0</td>\n",
       "      <td>40</td>\n",
       "      <td>United-States</td>\n",
       "      <td>&lt;=50K</td>\n",
       "    </tr>\n",
       "    <tr>\n",
       "      <th>1</th>\n",
       "      <td>50</td>\n",
       "      <td>Self-emp-not-inc</td>\n",
       "      <td>83311</td>\n",
       "      <td>Bachelors</td>\n",
       "      <td>13</td>\n",
       "      <td>Married-civ-spouse</td>\n",
       "      <td>Exec-managerial</td>\n",
       "      <td>Husband</td>\n",
       "      <td>White</td>\n",
       "      <td>Male</td>\n",
       "      <td>0</td>\n",
       "      <td>0</td>\n",
       "      <td>13</td>\n",
       "      <td>United-States</td>\n",
       "      <td>&lt;=50K</td>\n",
       "    </tr>\n",
       "    <tr>\n",
       "      <th>2</th>\n",
       "      <td>38</td>\n",
       "      <td>Private</td>\n",
       "      <td>215646</td>\n",
       "      <td>HS-grad</td>\n",
       "      <td>9</td>\n",
       "      <td>Divorced</td>\n",
       "      <td>Handlers-cleaners</td>\n",
       "      <td>Not-in-family</td>\n",
       "      <td>White</td>\n",
       "      <td>Male</td>\n",
       "      <td>0</td>\n",
       "      <td>0</td>\n",
       "      <td>40</td>\n",
       "      <td>United-States</td>\n",
       "      <td>&lt;=50K</td>\n",
       "    </tr>\n",
       "    <tr>\n",
       "      <th>3</th>\n",
       "      <td>53</td>\n",
       "      <td>Private</td>\n",
       "      <td>234721</td>\n",
       "      <td>11th</td>\n",
       "      <td>7</td>\n",
       "      <td>Married-civ-spouse</td>\n",
       "      <td>Handlers-cleaners</td>\n",
       "      <td>Husband</td>\n",
       "      <td>Black</td>\n",
       "      <td>Male</td>\n",
       "      <td>0</td>\n",
       "      <td>0</td>\n",
       "      <td>40</td>\n",
       "      <td>United-States</td>\n",
       "      <td>&lt;=50K</td>\n",
       "    </tr>\n",
       "    <tr>\n",
       "      <th>4</th>\n",
       "      <td>28</td>\n",
       "      <td>Private</td>\n",
       "      <td>338409</td>\n",
       "      <td>Bachelors</td>\n",
       "      <td>13</td>\n",
       "      <td>Married-civ-spouse</td>\n",
       "      <td>Prof-specialty</td>\n",
       "      <td>Wife</td>\n",
       "      <td>Black</td>\n",
       "      <td>Female</td>\n",
       "      <td>0</td>\n",
       "      <td>0</td>\n",
       "      <td>40</td>\n",
       "      <td>Cuba</td>\n",
       "      <td>&lt;=50K</td>\n",
       "    </tr>\n",
       "  </tbody>\n",
       "</table>\n",
       "</div>"
      ],
      "text/plain": [
       "   age         workclass  fnlwgt  education  education-num  \\\n",
       "0   39         State-gov   77516  Bachelors             13   \n",
       "1   50  Self-emp-not-inc   83311  Bachelors             13   \n",
       "2   38           Private  215646    HS-grad              9   \n",
       "3   53           Private  234721       11th              7   \n",
       "4   28           Private  338409  Bachelors             13   \n",
       "\n",
       "       marital-status         occupation   relationship   race     sex  \\\n",
       "0       Never-married       Adm-clerical  Not-in-family  White    Male   \n",
       "1  Married-civ-spouse    Exec-managerial        Husband  White    Male   \n",
       "2            Divorced  Handlers-cleaners  Not-in-family  White    Male   \n",
       "3  Married-civ-spouse  Handlers-cleaners        Husband  Black    Male   \n",
       "4  Married-civ-spouse     Prof-specialty           Wife  Black  Female   \n",
       "\n",
       "   capital-gain  capital-loss  hours-per-week native-country income  \n",
       "0          2174             0              40  United-States  <=50K  \n",
       "1             0             0              13  United-States  <=50K  \n",
       "2             0             0              40  United-States  <=50K  \n",
       "3             0             0              40  United-States  <=50K  \n",
       "4             0             0              40           Cuba  <=50K  "
      ]
     },
     "execution_count": 11,
     "metadata": {},
     "output_type": "execute_result"
    }
   ],
   "source": [
    "df.head()"
   ]
  },
  {
   "cell_type": "code",
   "execution_count": 12,
   "id": "1a4124e6-4aa7-4aea-ba25-5c2abdc47051",
   "metadata": {},
   "outputs": [
    {
     "name": "stdout",
     "output_type": "stream",
     "text": [
      "<class 'pandas.core.frame.DataFrame'>\n",
      "RangeIndex: 48842 entries, 0 to 48841\n",
      "Data columns (total 15 columns):\n",
      " #   Column          Non-Null Count  Dtype \n",
      "---  ------          --------------  ----- \n",
      " 0   age             48842 non-null  int64 \n",
      " 1   workclass       47879 non-null  object\n",
      " 2   fnlwgt          48842 non-null  int64 \n",
      " 3   education       48842 non-null  object\n",
      " 4   education-num   48842 non-null  int64 \n",
      " 5   marital-status  48842 non-null  object\n",
      " 6   occupation      47876 non-null  object\n",
      " 7   relationship    48842 non-null  object\n",
      " 8   race            48842 non-null  object\n",
      " 9   sex             48842 non-null  object\n",
      " 10  capital-gain    48842 non-null  int64 \n",
      " 11  capital-loss    48842 non-null  int64 \n",
      " 12  hours-per-week  48842 non-null  int64 \n",
      " 13  native-country  48568 non-null  object\n",
      " 14  income          48842 non-null  object\n",
      "dtypes: int64(6), object(9)\n",
      "memory usage: 5.6+ MB\n"
     ]
    }
   ],
   "source": [
    "df.info()"
   ]
  },
  {
   "cell_type": "code",
   "execution_count": 13,
   "id": "00e477dc-eaf8-4509-8458-aea9cf779a01",
   "metadata": {},
   "outputs": [],
   "source": [
    "df['high_income'] = (df['income'] == '>50K').astype(int)"
   ]
  },
  {
   "cell_type": "code",
   "execution_count": 18,
   "id": "6fccc7bf-bbc6-44f8-b902-4c39bb257900",
   "metadata": {},
   "outputs": [],
   "source": [
    "primary       = {'Preschool','1st-4th','5th-6th'}\n",
    "middle_school = {'7th-8th','9th'}\n",
    "high_school   = {'10th','11th','12th','HS-grad'}\n",
    "short_higher  = {'Some-college','Assoc-acdm','Assoc-voc'}\n",
    "long_higher   = {'Bachelors','Masters','Prof-school','Doctorate'}"
   ]
  },
  {
   "cell_type": "code",
   "execution_count": 19,
   "id": "11ae27e6-b5a1-4fcd-b5ff-47ef8338900e",
   "metadata": {},
   "outputs": [],
   "source": [
    "def edu5(x):\n",
    "    if x in primary: return 'Primary'\n",
    "    if x in middle_school: return 'Middle'\n",
    "    if x in high_school: return 'HighSchool'\n",
    "    if x in short_higher: return 'ShortHigher'\n",
    "    if x in long_higher: return 'LongHigher'\n",
    "    return 'Other'\n",
    "\n",
    "df['edu_5'] = df['education'].apply(edu5)\n",
    "order_5 = ['Primary','Middle','HighSchool','ShortHigher','LongHigher']"
   ]
  },
  {
   "cell_type": "code",
   "execution_count": 20,
   "id": "b6ed7310-9b37-40c3-96c7-224dbbed3d02",
   "metadata": {},
   "outputs": [
    {
     "name": "stdout",
     "output_type": "stream",
     "text": [
      "Tailles des 5 groupes :\n",
      "edu_5\n",
      "Primary          839\n",
      "Middle          1711\n",
      "HighSchool     19642\n",
      "ShortHigher    14540\n",
      "LongHigher     12110\n",
      "Name: count, dtype: int64\n"
     ]
    }
   ],
   "source": [
    "# Verrouiller l'ordre et ne garder que les catégories présentes\n",
    "present_5 = [g for g in order_5 if (df['edu_5'] == g).any()]\n",
    "df['edu_5'] = pd.Categorical(df['edu_5'], categories=present_5, ordered=True)\n",
    "\n",
    "print(\"Tailles des 5 groupes :\")\n",
    "print(df['edu_5'].value_counts().reindex(present_5))"
   ]
  },
  {
   "cell_type": "markdown",
   "id": "953b411a-6bdb-4bec-aa5a-097301501d23",
   "metadata": {},
   "source": [
    "# Question statistique simple"
   ]
  },
  {
   "cell_type": "code",
   "execution_count": 21,
   "id": "0132178f-9d1b-43ae-b4bf-433d2854af80",
   "metadata": {},
   "outputs": [
    {
     "name": "stdout",
     "output_type": "stream",
     "text": [
      "\n",
      "Proportions réelles (>50K) par groupe :\n",
      "edu_5\n",
      "Primary        0.0429\n",
      "Middle         0.0602\n",
      "HighSchool     0.1390\n",
      "ShortHigher    0.2062\n",
      "LongHigher     0.4806\n",
      "Name: high_income, dtype: float64\n"
     ]
    },
    {
     "name": "stderr",
     "output_type": "stream",
     "text": [
      "/tmp/ipykernel_1024352/127444105.py:2: FutureWarning: The default of observed=False is deprecated and will be changed to True in a future version of pandas. Pass observed=False to retain current behavior or observed=True to adopt the future default and silence this warning.\n",
      "  prop_real = df.groupby('edu_5')['high_income'].mean().reindex(present_5)\n"
     ]
    }
   ],
   "source": [
    "#  Proportions réelles\n",
    "prop_real = df.groupby('edu_5')['high_income'].mean().reindex(present_5)\n",
    "print(\"\\nProportions réelles (>50K) par groupe :\")\n",
    "print(prop_real.round(4))"
   ]
  },
  {
   "cell_type": "code",
   "execution_count": 22,
   "id": "e9d45c96-15cb-42d3-af25-0b015719e9d1",
   "metadata": {},
   "outputs": [
    {
     "name": "stderr",
     "output_type": "stream",
     "text": [
      "/home/ensai/ENSAI/3A/S1/Publication des donness/Projet/Privacy-Preserving-Data-Publishing/.venv/lib/python3.10/site-packages/mbi/graphical_model.py:247: FutureWarning: DataFrameGroupBy.apply operated on the grouping columns. This behavior is deprecated, and in a future version of pandas the grouping columns will be excluded from the operation. Either pass `include_groups=False` to exclude the groupings or explicitly select the grouping columns after groupby to silence this warning.\n",
      "  df = df.groupby(list(proj), group_keys=False).apply(foo)\n",
      "/tmp/ipykernel_1024352/4042148970.py:10: FutureWarning: The default of observed=False is deprecated and will be changed to True in a future version of pandas. Pass observed=False to retain current behavior or observed=True to adopt the future default and silence this warning.\n",
      "  s = df_s.groupby('edu_5')['high_income'].mean().reindex(present_5).fillna(0.0)\n",
      "/home/ensai/ENSAI/3A/S1/Publication des donness/Projet/Privacy-Preserving-Data-Publishing/.venv/lib/python3.10/site-packages/mbi/graphical_model.py:247: FutureWarning: DataFrameGroupBy.apply operated on the grouping columns. This behavior is deprecated, and in a future version of pandas the grouping columns will be excluded from the operation. Either pass `include_groups=False` to exclude the groupings or explicitly select the grouping columns after groupby to silence this warning.\n",
      "  df = df.groupby(list(proj), group_keys=False).apply(foo)\n",
      "/tmp/ipykernel_1024352/4042148970.py:10: FutureWarning: The default of observed=False is deprecated and will be changed to True in a future version of pandas. Pass observed=False to retain current behavior or observed=True to adopt the future default and silence this warning.\n",
      "  s = df_s.groupby('edu_5')['high_income'].mean().reindex(present_5).fillna(0.0)\n"
     ]
    },
    {
     "data": {
      "text/plain": [
       "{1: edu_5\n",
       " Primary        0.027545\n",
       " Middle         0.062904\n",
       " HighSchool     0.139347\n",
       " ShortHigher    0.206076\n",
       " LongHigher     0.480995\n",
       " Name: high_income, dtype: float64,\n",
       " 100: edu_5\n",
       " Primary        0.042908\n",
       " Middle         0.060748\n",
       " HighSchool     0.138937\n",
       " ShortHigher    0.206135\n",
       " LongHigher     0.480595\n",
       " Name: high_income, dtype: float64}"
      ]
     },
     "execution_count": 22,
     "metadata": {},
     "output_type": "execute_result"
    }
   ],
   "source": [
    "# Données synthétiques MST\n",
    "epsilon_values = [1, 100]\n",
    "synth_props = {}\n",
    "\n",
    "for eps in epsilon_values:\n",
    "    synth = MSTSynthesizer(epsilon=eps)\n",
    "    synth.fit(df[['edu_5','high_income']])\n",
    "    df_s = synth.sample(len(df))\n",
    "    df_s['edu_5'] = pd.Categorical(df_s['edu_5'], categories=present_5, ordered=True)\n",
    "    s = df_s.groupby('edu_5')['high_income'].mean().reindex(present_5).fillna(0.0)\n",
    "    synth_props[eps] = s\n",
    "synth_props"
   ]
  },
  {
   "cell_type": "code",
   "execution_count": 23,
   "id": "2e237212-55a1-4949-8035-d4f2854a0a4c",
   "metadata": {},
   "outputs": [
    {
     "name": "stdout",
     "output_type": "stream",
     "text": [
      "ε=1 → MAE=0.0038 | EMD=0.0038\n",
      "ε=100 → MAE=0.0001 | EMD=0.0001\n"
     ]
    }
   ],
   "source": [
    "# 3) Indicateurs d'écart\n",
    "def mae(a, b): \n",
    "    return float(np.nanmean(np.abs(np.asarray(a) - np.asarray(b))))\n",
    "\n",
    "for eps, s in synth_props.items():\n",
    "    print(f\"ε={eps} → MAE={mae(prop_real.values, s.values):.4f} | EMD={wasserstein_distance(prop_real.values, s.values):.4f}\")"
   ]
  },
  {
   "cell_type": "code",
   "execution_count": 42,
   "id": "64095c99-597c-4d27-a45b-8c0174e53671",
   "metadata": {},
   "outputs": [
    {
     "data": {
      "image/png": "[encoded data removed]",
      "text/plain": [
       "<Figure size 1000x500 with 1 Axes>"
      ]
     },
     "metadata": {},
     "output_type": "display_data"
    }
   ],
   "source": [
    "# 4) Graphique barres groupées\n",
    "x = np.arange(len(present_5)); w = 0.28\n",
    "plt.figure(figsize=(10,5))\n",
    "plt.bar(x - w, prop_real.values, width=w, label='Réel')\n",
    "plt.bar(x,       synth_props[1].values, width=w, label='ε=1')\n",
    "plt.bar(x + w,   synth_props[100].values, width=w, label='ε=100')\n",
    "plt.xticks(x, present_5, rotation=15)\n",
    "plt.ylabel(\"Proportion >50K\")\n",
    "plt.title(\"Proportion des individus avec un revenu >50K par niveau d'éducation\")\n",
    "plt.legend()\n",
    "plt.savefig(\"fig1.png\", dpi=300, bbox_inches=\"tight\")\n",
    "plt.tight_layout(); plt.show()\n"
   ]
  },
  {
   "cell_type": "markdown",
   "id": "21fda6a5-5de0-4582-a943-044bba38c24b",
   "metadata": {},
   "source": [
    "# Question statistique diificile"
   ]
  },
  {
   "cell_type": "code",
   "execution_count": 30,
   "id": "bb6ee1a0-a6b9-4af3-8e6d-297b849e55d8",
   "metadata": {},
   "outputs": [
    {
     "name": "stdout",
     "output_type": "stream",
     "text": [
      "Optimization terminated successfully.\n",
      "         Current function value: 0.469994\n",
      "         Iterations 8\n",
      "                           Logit Regression Results                           \n",
      "==============================================================================\n",
      "Dep. Variable:            high_income   No. Observations:                48842\n",
      "Model:                          Logit   Df Residuals:                    48832\n",
      "Method:                           MLE   Df Model:                            9\n",
      "Date:                Tue, 30 Sep 2025   Pseudo R-squ.:                  0.1459\n",
      "Time:                        23:57:50   Log-Likelihood:                -22955.\n",
      "converged:                       True   LL-Null:                       -26875.\n",
      "Covariance Type:            nonrobust   LLR p-value:                     0.000\n",
      "======================================================================================================\n",
      "                                         coef    std err          z      P>|z|      [0.025      0.975]\n",
      "------------------------------------------------------------------------------------------------------\n",
      "Intercept                             -3.9512      0.505     -7.828      0.000      -4.941      -2.962\n",
      "C(edu_5)[T.Middle]                    -0.3729      0.651     -0.573      0.567      -1.649       0.903\n",
      "C(edu_5)[T.HighSchool]                 1.0959      0.508      2.158      0.031       0.101       2.091\n",
      "C(edu_5)[T.ShortHigher]                1.5777      0.507      3.111      0.002       0.584       2.572\n",
      "C(edu_5)[T.LongHigher]                 2.9206      0.506      5.770      0.000       1.928       3.913\n",
      "sex_binary                             1.0284      0.536      1.917      0.055      -0.023       2.080\n",
      "C(edu_5)[T.Middle]:sex_binary          0.8186      0.684      1.197      0.231      -0.522       2.159\n",
      "C(edu_5)[T.HighSchool]:sex_binary      0.3107      0.540      0.576      0.565      -0.747       1.368\n",
      "C(edu_5)[T.ShortHigher]:sex_binary     0.4038      0.539      0.749      0.454      -0.653       1.460\n",
      "C(edu_5)[T.LongHigher]:sex_binary      0.2900      0.538      0.539      0.590      -0.765       1.345\n",
      "======================================================================================================\n"
     ]
    }
   ],
   "source": [
    "# Modèle réel\n",
    "df['sex_binary']  = (df['sex'] == 'Male').astype(int)\n",
    "df_dif = df[['edu_5','sex_binary','high_income']].copy()\n",
    "df_dif['edu_5'] = pd.Categorical(df_dif['edu_5'], categories=present_5, ordered=True)\n",
    "\n",
    "model_real = smf.logit(\"high_income ~ C(edu_5) * sex_binary\", data=df_dif).fit()\n",
    "print(model_real.summary())"
   ]
  },
  {
   "cell_type": "code",
   "execution_count": 31,
   "id": "4f516da0-1d9a-46cf-8820-72e87f671596",
   "metadata": {},
   "outputs": [
    {
     "name": "stderr",
     "output_type": "stream",
     "text": [
      "/home/ensai/ENSAI/3A/S1/Publication des donness/Projet/Privacy-Preserving-Data-Publishing/.venv/lib/python3.10/site-packages/mbi/graphical_model.py:247: FutureWarning: DataFrameGroupBy.apply operated on the grouping columns. This behavior is deprecated, and in a future version of pandas the grouping columns will be excluded from the operation. Either pass `include_groups=False` to exclude the groupings or explicitly select the grouping columns after groupby to silence this warning.\n",
      "  df = df.groupby(list(proj), group_keys=False).apply(foo)\n",
      "/home/ensai/ENSAI/3A/S1/Publication des donness/Projet/Privacy-Preserving-Data-Publishing/.venv/lib/python3.10/site-packages/mbi/graphical_model.py:247: FutureWarning: DataFrameGroupBy.apply operated on the grouping columns. This behavior is deprecated, and in a future version of pandas the grouping columns will be excluded from the operation. Either pass `include_groups=False` to exclude the groupings or explicitly select the grouping columns after groupby to silence this warning.\n",
      "  df = df.groupby(list(proj), group_keys=False).apply(foo)\n",
      "/home/ensai/ENSAI/3A/S1/Publication des donness/Projet/Privacy-Preserving-Data-Publishing/.venv/lib/python3.10/site-packages/mbi/graphical_model.py:247: FutureWarning: DataFrameGroupBy.apply operated on the grouping columns. This behavior is deprecated, and in a future version of pandas the grouping columns will be excluded from the operation. Either pass `include_groups=False` to exclude the groupings or explicitly select the grouping columns after groupby to silence this warning.\n",
      "  df = df.groupby(list(proj), group_keys=False).apply(foo)\n",
      "/home/ensai/ENSAI/3A/S1/Publication des donness/Projet/Privacy-Preserving-Data-Publishing/.venv/lib/python3.10/site-packages/mbi/graphical_model.py:247: FutureWarning: DataFrameGroupBy.apply operated on the grouping columns. This behavior is deprecated, and in a future version of pandas the grouping columns will be excluded from the operation. Either pass `include_groups=False` to exclude the groupings or explicitly select the grouping columns after groupby to silence this warning.\n",
      "  df = df.groupby(list(proj), group_keys=False).apply(foo)\n"
     ]
    }
   ],
   "source": [
    "# Modèles synthétiques (ε=1, 100) + prédictions\n",
    "pred_tables = {}\n",
    "\n",
    "for eps in [1, 100]:\n",
    "    synth = MSTSynthesizer(epsilon=eps)\n",
    "    synth.fit(df_dif[['edu_5','sex_binary','high_income']])\n",
    "    ds = synth.sample(len(df_dif))\n",
    "\n",
    "    # Harmonisation\n",
    "    ds['edu_5'] = pd.Categorical(ds['edu_5'], categories=present_5, ordered=True)\n",
    "    ds['sex_binary']  = ds['sex_binary'].astype(int)\n",
    "    ds['high_income'] = ds['high_income'].astype(int)\n",
    "\n",
    "    m = smf.logit(\"high_income ~ C(edu_5) * sex_binary\", data=ds).fit(disp=0)\n",
    "\n",
    "    grid = pd.DataFrame({\n",
    "        'edu_5': np.repeat(present_5, 2),\n",
    "        'sex_binary': [0,1] * len(present_5)\n",
    "    })\n",
    "    grid['edu_5'] = pd.Categorical(grid['edu_5'], categories=present_5, ordered=True)\n",
    "\n",
    "    pred_tables[eps] = m.predict(grid).values.reshape(len(present_5), 2)"
   ]
  },
  {
   "cell_type": "code",
   "execution_count": 32,
   "id": "6b193403-4a27-407f-bf3c-2f0faa1d7b0e",
   "metadata": {},
   "outputs": [],
   "source": [
    "# Prédictions réelles sur la même grille\n",
    "grid = pd.DataFrame({'edu_5': np.repeat(present_5, 2), 'sex_binary': [0,1]*len(present_5)})\n",
    "grid['edu_5'] = pd.Categorical(grid['edu_5'], categories=present_5, ordered=True)\n",
    "pred_real = model_real.predict(grid).values.reshape(len(present_5), 2)"
   ]
  },
  {
   "cell_type": "code",
   "execution_count": 48,
   "id": "4b121fe0-6f9f-4d26-a008-1763cd0ed77f",
   "metadata": {},
   "outputs": [
    {
     "data": {
      "image/png": "[encoded data removed]",
      "text/plain": [
       "<Figure size 1200x500 with 2 Axes>"
      ]
     },
     "metadata": {},
     "output_type": "display_data"
    }
   ],
   "source": [
    "# 5) Graphiques profils par sexe\n",
    "plt.figure(figsize=(12,5))\n",
    "for j, sex_label in enumerate(['Femme (0)','Homme (1)']):\n",
    "    plt.subplot(1,2,j+1)\n",
    "    x = np.arange(len(present_5))\n",
    "    plt.plot(x, pred_real[:, j], marker='o', label='Réel')\n",
    "    plt.plot(x, pred_tables[1][:, j], marker='o', label='ε=1')\n",
    "    plt.plot(x, pred_tables[100][:, j], marker='o', label='ε=100')\n",
    "    plt.xticks(x, present_5, rotation=15)\n",
    "    plt.ylim(0, 0.6)\n",
    "    plt.ylabel(\"Probabilité prédite (>50K)\")\n",
    "    plt.title(f\"Probabilité par niveau d'éducation — {sex_label}\")\n",
    "    plt.legend()\n",
    "plt.savefig(\"fig2.png\", dpi=300, bbox_inches=\"tight\")\n",
    "plt.tight_layout();plt.show()"
   ]
  },
  {
   "cell_type": "code",
   "execution_count": 49,
   "id": "d9a98498-e7a0-40ad-befb-aef562d4dbde",
   "metadata": {},
   "outputs": [
    {
     "name": "stdout",
     "output_type": "stream",
     "text": [
      "\n",
      "=== Écarts (réel vs synth) — ε=1 ===\n",
      "Female → EMD=0.0493 | MAE=0.0072\n",
      "Male   → EMD=0.0400 | MAE=0.0149\n",
      "\n",
      "=== Écarts (réel vs synth) — ε=100 ===\n",
      "Female → EMD=0.1124 | MAE=0.0080\n",
      "Male   → EMD=0.0374 | MAE=0.0072\n"
     ]
    }
   ],
   "source": [
    "import numpy as np\n",
    "from scipy.stats import wasserstein_distance\n",
    "\n",
    "def _normalize(v):\n",
    "    v = np.asarray(v, dtype=float)\n",
    "    s = v.sum()\n",
    "    if s <= 0:\n",
    "        return np.ones_like(v) / len(v)\n",
    "    return v / s\n",
    "\n",
    "def emd_per_sex(pred_real_mat, pred_synth_mat, present_levels):\n",
    "    \"\"\"\n",
    "    pred_*_mat: matrice shape (n_levels, 2)  -> [:,0]=Femmes, [:,1]=Hommes\n",
    "    Retourne dict avec EMD et MAE pour F et H, + moyennes pondérées.\n",
    "    \"\"\"\n",
    "    x = np.arange(len(present_levels))  # support ordinal: Primary < Middle < ... < LongHigher\n",
    "    out = {}\n",
    "\n",
    "    res = {}\n",
    "    for sex_idx, sex_name in zip([0,1], [\"Female\",\"Male\"]):\n",
    "        real = pred_real_mat[:, sex_idx]\n",
    "        synth = pred_synth_mat[:, sex_idx]\n",
    "\n",
    "        # MAE simple (écart moyen en points de probabilité)\n",
    "        mae = float(np.mean(np.abs(real - synth)))\n",
    "\n",
    "        # EMD \"distributionnelle\" (Wasserstein) sur support ordonné,\n",
    "        # avec poids = probas prédites normalisées (somme=1)\n",
    "        rw = _normalize(real)\n",
    "        sw = _normalize(synth)\n",
    "        emd = float(wasserstein_distance(x, x, u_weights=rw, v_weights=sw))\n",
    "\n",
    "        res[sex_name] = {\"MAE\": mae, \"EMD\": emd}\n",
    "\n",
    "    out[\"by_sex\"] = res\n",
    "\n",
    "    return out\n",
    "\n",
    "# --- EMD & MAE pour ε=1 et ε=100 (séparément F/H) ---\n",
    "results_emd = {}\n",
    "for eps in [1, 100]:\n",
    "    results_emd[eps] = emd_per_sex(pred_real, pred_tables[eps], present_5)\n",
    "\n",
    "# --- Affichage propre ---\n",
    "for eps in [1, 100]:\n",
    "    print(f\"\\n=== Écarts (réel vs synth) — ε={eps} ===\")\n",
    "    for sex in [\"Female\",\"Male\"]:\n",
    "        emd = results_emd[eps][\"by_sex\"][sex][\"EMD\"]\n",
    "        mae = results_emd[eps][\"by_sex\"][sex][\"MAE\"]\n",
    "        print(f\"{sex:6s} → EMD={emd:.4f} | MAE={mae:.4f}\")\n"
   ]
  },
  {
   "cell_type": "code",
   "execution_count": null,
   "id": "a4b4a62c-db94-442c-a498-801735f116f6",
   "metadata": {},
   "outputs": [],
   "source": []
  }
 ],
 "metadata": {
  "kernelspec": {
   "display_name": "Python 3 (ipykernel)",
   "language": "python",
   "name": "python3"
  },
  "language_info": {
   "codemirror_mode": {
    "name": "ipython",
    "version": 3
   },
   "file_extension": ".py",
   "mimetype": "text/x-python",
   "name": "python",
   "nbconvert_exporter": "python",
   "pygments_lexer": "ipython3",
   "version": "3.10.12"
  }
 },
 "nbformat": 4,
 "nbformat_minor": 5
}
